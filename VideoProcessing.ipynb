{
 "cells": [
  {
   "cell_type": "code",
   "execution_count": 1,
   "metadata": {},
   "outputs": [
    {
     "name": "stdout",
     "output_type": "stream",
     "text": [
      "Hello world! I am He Zhang.\n"
     ]
    }
   ],
   "source": [
    "print(\"Hello world! I am He Zhang.\")"
   ]
  },
  {
   "cell_type": "code",
   "execution_count": 2,
   "metadata": {
    "collapsed": true
   },
   "outputs": [],
   "source": [
    "## Task description:\n",
    "## Extract audio from low resolution video,\n",
    "## and add audio to high resolution video."
   ]
  },
  {
   "cell_type": "code",
   "execution_count": 3,
   "metadata": {},
   "outputs": [
    {
     "data": {
      "text/plain": [
       "0"
      ]
     },
     "execution_count": 3,
     "metadata": {},
     "output_type": "execute_result"
    }
   ],
   "source": [
    "# Part 1-1 Extract audio from video.\n",
    "\n",
    "import subprocess\n",
    "\n",
    "# Input video path: Videos/JuJingyi-HongZhaoYuan360P.mp4\n",
    "# Output audio path: Videos/JuJingyi-HongZhaoYuan.wav\n",
    "\n",
    "command = \"ffmpeg -i Videos/JuJingyi-HongZhaoYuan360P.mp4 -ab 160k -ac 2 -ar 44100 -vn Videos/JuJingyi-HongZhaoYuan.wav\"\n",
    "\n",
    "subprocess.call(command, shell=True)\n",
    "\n",
    "# Note: Return 0 if video processing is succeed.\n",
    "# Note: Return 1 if output audio file is already exist."
   ]
  },
  {
   "cell_type": "code",
   "execution_count": 4,
   "metadata": {},
   "outputs": [
    {
     "data": {
      "text/plain": [
       "0"
      ]
     },
     "execution_count": 4,
     "metadata": {},
     "output_type": "execute_result"
    }
   ],
   "source": [
    "# Part 1-2 Add audio to video.\n",
    "\n",
    "# Input video path: Videos/JuJingyi-HongZhaoYuan1080P.mp4\n",
    "# Input audio path: Videos/JuJingyi-HongZhaoYuan.wav\n",
    "# Output video path: Videos/JuJingyi-HongZhaoYuan1080P_S.mp4\n",
    "\n",
    "command = \"ffmpeg -i Videos/JuJingyi-HongZhaoYuan1080P.mp4 -i Videos/JuJingyi-HongZhaoYuan.wav -c:v copy -c:a aac -strict experimental Videos/JuJingyi-HongZhaoYuan1080P_S.mp4\"\n",
    "\n",
    "# Note: The input video is assumed to have no audio!\n",
    "# If the input video has audio and this command leads to undesired effect,\n",
    "# try to remove audio from input video using the following codes.\n",
    "\n",
    "subprocess.call(command, shell=True)\n",
    "\n",
    "# Note: Return 0 if video processing is succeed.\n",
    "# Note: Return 1 if output video file is already exist."
   ]
  },
  {
   "cell_type": "code",
   "execution_count": 5,
   "metadata": {},
   "outputs": [
    {
     "data": {
      "text/plain": [
       "0"
      ]
     },
     "execution_count": 5,
     "metadata": {},
     "output_type": "execute_result"
    }
   ],
   "source": [
    "# Part 2 Remove audio from video.\n",
    "\n",
    "import subprocess\n",
    "\n",
    "# Input video path: Videos/JuJingyi-HongZhaoYuan360P.mp4\n",
    "# Output video path: Videos/JuJingyi-HongZhaoYuan360P_noS.mp4\n",
    "\n",
    "command = \"ffmpeg -y -i Videos/JuJingyi-HongZhaoYuan360P.mp4 -an -vcodec copy Videos/JuJingyi-HongZhaoYuan360P_noS.mp4\"\n",
    "\n",
    "subprocess.call(command, shell=True)\n",
    "\n",
    "# Note: return 0 means video processing is succeed."
   ]
  },
  {
   "cell_type": "code",
   "execution_count": null,
   "metadata": {
    "collapsed": true
   },
   "outputs": [],
   "source": []
  }
 ],
 "metadata": {
  "kernelspec": {
   "display_name": "Python 3",
   "language": "python",
   "name": "python3"
  },
  "language_info": {
   "codemirror_mode": {
    "name": "ipython",
    "version": 2
   },
   "file_extension": ".py",
   "mimetype": "text/x-python",
   "name": "python",
   "nbconvert_exporter": "python",
   "pygments_lexer": "ipython2",
   "version": "2.7.13"
  }
 },
 "nbformat": 4,
 "nbformat_minor": 2
}
