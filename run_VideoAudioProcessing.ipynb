{
 "cells": [
  {
   "cell_type": "code",
   "execution_count": 1,
   "metadata": {},
   "outputs": [],
   "source": [
    "### Function: Extract/remove audio from video, or add audio to video, or convert audio formats.\n",
    "\n",
    "import os\n",
    "import subprocess\n",
    "\n",
    "# # Check if the output file exists. If so, delete it.\n",
    "# from pathlib import Path\n",
    "# file = Path(out_file)\n",
    "# if file.exists():\n",
    "#     os.remove(out_file)\n",
    "\n"
   ]
  },
  {
   "cell_type": "code",
   "execution_count": 2,
   "metadata": {},
   "outputs": [
    {
     "data": {
      "text/plain": [
       "0"
      ]
     },
     "execution_count": 2,
     "metadata": {},
     "output_type": "execute_result"
    }
   ],
   "source": [
    "## 1. Extract audio from video.\n",
    "\n",
    "# Set the name/path of input and output files.\n",
    "in_video = \"Media/JJY_HZY_360P.mp4\"\n",
    "out_file = \"Media/JJY_HZY.wav\"\n",
    "\n",
    "# Check if the output file exists. If so, delete it.\n",
    "if os.path.isfile(out_file) is True:\n",
    "    os.remove(out_file)\n",
    "\n",
    "# Process the input video and/or the input audio.\n",
    "command = \"ffmpeg -i \" + in_video + \" -ab 160k -ac 2 -ar 44100 -vn \" + out_file\n",
    "\n",
    "subprocess.call(command, shell=True)  # Execute the (Terminal) command within Python.\n",
    "\n",
    "# Note: \n",
    "#     Return 0 - If the processing is completed.\n",
    "#     Return 1 - If the processing is failed (e.g., the output file exists).\n"
   ]
  },
  {
   "cell_type": "code",
   "execution_count": 3,
   "metadata": {},
   "outputs": [
    {
     "data": {
      "text/plain": [
       "0"
      ]
     },
     "execution_count": 3,
     "metadata": {},
     "output_type": "execute_result"
    }
   ],
   "source": [
    "## 2. Add audio to video.\n",
    "\n",
    "# Note: \n",
    "#     The input video should have no audio.\n",
    "#     If the input video has audio, the audio will not be added.\n",
    "\n",
    "# Set the name/path of input and output files.\n",
    "in_video = \"Media/JJY_HZY1080P.mp4\"\n",
    "in_audio = \"Media/JJY_HZY.wav\"\n",
    "out_file = \"Media/JJY_HZY1080P_S.mp4\"\n",
    "\n",
    "# Check if the output file exists. If so, delete it.\n",
    "if os.path.isfile(out_file) is True:\n",
    "    os.remove(out_file)\n",
    "\n",
    "# Process the input video and/or the input audio.\n",
    "command = \"ffmpeg -i \" + in_video + \" -i \" + in_audio + \" -c:v copy -c:a aac -strict experimental \" + out_file\n",
    "\n",
    "subprocess.call(command, shell=True)  # Execute the (Terminal) command within Python.\n",
    "\n",
    "# Note: \n",
    "#     Return 0 - If the processing is completed.\n",
    "#     Return 1 - If the processing is failed (e.g., the output file exists).\n"
   ]
  },
  {
   "cell_type": "code",
   "execution_count": 4,
   "metadata": {},
   "outputs": [
    {
     "data": {
      "text/plain": [
       "0"
      ]
     },
     "execution_count": 4,
     "metadata": {},
     "output_type": "execute_result"
    }
   ],
   "source": [
    "## 3. Remove audio from video.\n",
    "\n",
    "# Set the name/path of input and output files.\n",
    "in_video = \"Media/JJY_HZY_360P.mp4\"\n",
    "out_file = \"Media/JJY_HZY_360P_noS.mp4\"\n",
    "\n",
    "# Check if the output file exists. If so, delete it.\n",
    "if os.path.isfile(out_file) is True:\n",
    "    os.remove(out_file)\n",
    "\n",
    "# Process the input video and/or the input audio.\n",
    "command = \"ffmpeg -y -i \" + in_video + \" -an -vcodec copy \" + out_file\n",
    "\n",
    "subprocess.call(command, shell=True)  # Execute the (Terminal) command within Python.\n",
    "\n",
    "# Note: \n",
    "#     Return 0 - If the processing is completed.\n",
    "#     Return 1 - If the processing is failed (e.g., the output file exists).\n"
   ]
  },
  {
   "cell_type": "code",
   "execution_count": 5,
   "metadata": {},
   "outputs": [
    {
     "data": {
      "text/plain": [
       "0"
      ]
     },
     "execution_count": 5,
     "metadata": {},
     "output_type": "execute_result"
    }
   ],
   "source": [
    "## 4. Convert audio formats.\n",
    "\n",
    "# Set the name/path of input and output files.\n",
    "in_audio = \"Media/JJY_HZY.wav\"\n",
    "out_file = \"Media/JJY_HZY.mp3\"\n",
    "\n",
    "# Check if the output file exists. If so, delete it.\n",
    "if os.path.isfile(out_file) is True:\n",
    "    os.remove(out_file)\n",
    "\n",
    "# Process the input video and/or the input audio.\n",
    "command = \"ffmpeg -i \" + in_audio + \" -ab 160k -ac 2 -ar 44100 -vn \" + out_file\n",
    "\n",
    "subprocess.call(command, shell=True)  # Execute the (Terminal) command within Python.\n",
    "\n",
    "# Note: \n",
    "#     Return 0 - If the processing is completed.\n",
    "#     Return 1 - If the processing is failed (e.g., the output file exists).\n"
   ]
  },
  {
   "cell_type": "code",
   "execution_count": null,
   "metadata": {},
   "outputs": [],
   "source": []
  }
 ],
 "metadata": {
  "kernelspec": {
   "display_name": "Python 3",
   "language": "python",
   "name": "python3"
  },
  "language_info": {
   "codemirror_mode": {
    "name": "ipython",
    "version": 3
   },
   "file_extension": ".py",
   "mimetype": "text/x-python",
   "name": "python",
   "nbconvert_exporter": "python",
   "pygments_lexer": "ipython3",
   "version": "3.7.1"
  }
 },
 "nbformat": 4,
 "nbformat_minor": 2
}
